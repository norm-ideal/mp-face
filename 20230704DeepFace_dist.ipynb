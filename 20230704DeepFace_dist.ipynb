{
  "nbformat": 4,
  "nbformat_minor": 0,
  "metadata": {
    "colab": {
      "provenance": [],
      "include_colab_link": true
    },
    "kernelspec": {
      "name": "python3",
      "display_name": "Python 3"
    },
    "language_info": {
      "name": "python"
    }
  },
  "cells": [
    {
      "cell_type": "markdown",
      "metadata": {
        "id": "view-in-github",
        "colab_type": "text"
      },
      "source": [
        "<a href=\"https://colab.research.google.com/github/norm-ideal/mp-face/blob/master/20230704DeepFace_dist.ipynb\" target=\"_parent\"><img src=\"https://colab.research.google.com/assets/colab-badge.svg\" alt=\"Open In Colab\"/></a>"
      ]
    },
    {
      "cell_type": "code",
      "execution_count": null,
      "metadata": {
        "id": "mu2GmVhZbZdK"
      },
      "outputs": [],
      "source": [
        "pip install deepface"
      ]
    },
    {
      "cell_type": "code",
      "source": [
        "import cv2\n",
        "import matplotlib.pyplot as plt\n",
        "import pandas as pd\n",
        "\n",
        "from deepface import DeepFace"
      ],
      "metadata": {
        "id": "UMjkXVR9uA4y"
      },
      "execution_count": null,
      "outputs": []
    },
    {
      "cell_type": "code",
      "source": [
        "!wget -O img1.jpg https://www.tama.ac.jp/guide/teacher/img/000006tate.jpg\n",
        "!wget -O img2.jpg http://tgs.tama.ac.jp/renew/wp-content/uploads/2014/06/idehara-norimichi.jpg\n",
        "!wget -O img3.jpg https://www.tama.ac.jp/guide/teacher/img/kubota_takafumi.jpg\n",
        "!wget -O img4.jpg https://styly.cc/wp-content/uploads/2023/04/6-IMG_3306.jpg\n",
        "img1 = cv2.imread('img1.jpg')\n",
        "img2 = cv2.imread('img2.jpg')\n",
        "img3 = cv2.imread('img3.jpg')\n",
        "img4 = cv2.imread('img4.jpg')"
      ],
      "metadata": {
        "id": "VHgjK90-urH_"
      },
      "execution_count": null,
      "outputs": []
    },
    {
      "cell_type": "code",
      "source": [
        "plt.imshow(img1[:,:,::-1])"
      ],
      "metadata": {
        "id": "S1tdFx2Lu4Hz"
      },
      "execution_count": null,
      "outputs": []
    },
    {
      "cell_type": "code",
      "source": [
        "\"\"\"\n",
        "orig = cv2.imread(\"img4.jpg\")\n",
        "\n",
        "x = resp[\"facial_areas\"][\"img2\"][\"x\"]\n",
        "y = resp[\"facial_areas\"][\"img2\"][\"y\"]\n",
        "w = resp[\"facial_areas\"][\"img2\"][\"w\"]\n",
        "h = resp[\"facial_areas\"][\"img2\"][\"h\"]\n",
        "\n",
        "#顔を四角で囲む\n",
        "img = cv2.rectangle(orig,\n",
        "  pt1=(x, y),\n",
        "  pt2=(x+w, y+h),\n",
        "  color=(0, 255, 0),\n",
        "  thickness=2,\n",
        "  lineType=cv2.LINE_4,\n",
        "  shift=0)\n",
        "\n",
        "show_img = cv2.cvtColor(img,cv2.COLOR_BGR2RGB)\n",
        "plt.imshow(show_img)\n",
        "\"\"\""
      ],
      "metadata": {
        "id": "3si43u6A5Q4X"
      },
      "execution_count": null,
      "outputs": []
    }
  ]
}